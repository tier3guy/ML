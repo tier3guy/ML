{
 "cells": [
  {
   "cell_type": "markdown",
   "metadata": {
    "id": "SskEFbY-Lma4"
   },
   "source": [
    "**Pandas Tutorial**\n",
    "\n",
    "---\n",
    "\n",
    "Pandas is an open source Python package that is most widely used for data science/data analysis and machine learning tasks. It is built on top of another package named Numpy, which provides support for multi-dimensional arrays. As one of the most popular data wrangling packages, Pandas works well with many other data science modules inside the Python ecosystem.\n",
    "\n",
    "\n",
    "**Pandas is used to analyze data.**\n",
    "\n",
    "It has functions for analyzing, cleaning, exploring, and manipulating data.Pandas allows us to analyze big data and make conclusions based on statistical theories.\n",
    "\n",
    "Pandas can clean messy data sets, and make them readable and relevant.\n",
    "\n",
    "Relevant data is very important in data science.\n",
    "\n",
    "---\n",
    "\n",
    "**Pandas DataFrames**"
   ]
  },
  {
   "cell_type": "code",
   "execution_count": 1,
   "metadata": {
    "id": "rqanjBHbNoo7"
   },
   "outputs": [],
   "source": [
    "# importing pandas under pd alias\n",
    "import pandas as pd"
   ]
  },
  {
   "cell_type": "code",
   "execution_count": 2,
   "metadata": {
    "colab": {
     "base_uri": "https://localhost:8080/"
    },
    "id": "MdXkjgPuNyEN",
    "outputId": "9a4ec951-c399-4d9d-f73b-908fd37384b1"
   },
   "outputs": [
    {
     "name": "stdout",
     "output_type": "stream",
     "text": [
      "       Name  Percentile\n",
      "0   Avinash          85\n",
      "1  Abhijeet          92\n",
      "2     Elina          90\n",
      "3     Rohit          82\n",
      "4     Kamya          50\n",
      "5    Laraib          85\n",
      "6     Viran         100\n"
     ]
    }
   ],
   "source": [
    "# Creating a sample dictionary\n",
    "__student_markings = {\n",
    "    'Name' : ['Avinash', 'Abhijeet', 'Elina', 'Rohit', 'Kamya', 'Laraib', 'Viran'],\n",
    "    'Percentile' : [85, 92, 90, 82, 50, 85, 100]\n",
    "}\n",
    "\n",
    "# Creating a data frame for a dictionary '__student_markings'\n",
    "data__framing = pd.DataFrame(__student_markings)\n",
    "print(data__framing)"
   ]
  },
  {
   "cell_type": "markdown",
   "metadata": {
    "id": "L4tCzbKsP1gJ"
   },
   "source": [
    "In the above data-framing indexing are introduced automatically. Pandas use the loc attribute to return one or more specified row(s)"
   ]
  },
  {
   "cell_type": "code",
   "execution_count": 3,
   "metadata": {
    "colab": {
     "base_uri": "https://localhost:8080/"
    },
    "id": "OFYT-F_nzS9M",
    "outputId": "507bb2f2-ef70-480e-d4e5-e1454288bbbb"
   },
   "outputs": [
    {
     "name": "stdout",
     "output_type": "stream",
     "text": [
      "Name          Rohit\n",
      "Percentile       82\n",
      "Name: 3, dtype: object\n"
     ]
    }
   ],
   "source": [
    "print(data__framing.loc[3])"
   ]
  },
  {
   "cell_type": "markdown",
   "metadata": {
    "id": "AVINzuWq0ioA"
   },
   "source": [
    "Returning Multiple rows : To return multiple rows, just pass an array to the loc of the indexes to be returned"
   ]
  },
  {
   "cell_type": "code",
   "execution_count": 4,
   "metadata": {
    "colab": {
     "base_uri": "https://localhost:8080/"
    },
    "id": "N5SJMDU_0nbt",
    "outputId": "be6b4ede-f5c9-4b1a-bf49-868f52cb2c6a"
   },
   "outputs": [
    {
     "name": "stdout",
     "output_type": "stream",
     "text": [
      "      Name  Percentile\n",
      "0  Avinash          85\n",
      "2    Elina          90\n"
     ]
    }
   ],
   "source": [
    "print(data__framing.loc[[0,2]])"
   ]
  },
  {
   "cell_type": "markdown",
   "metadata": {},
   "source": [
    "The DataFrames object has a method called info(), that gives you more information about the data set."
   ]
  },
  {
   "cell_type": "markdown",
   "metadata": {},
   "source": [
    "Getting head values and Tail values :\n",
    "The head() method returns the headers and a specified number of rows, starting from the top. The tail() method returns the headers and a specified number of rows, starting from the bottom."
   ]
  },
  {
   "cell_type": "code",
   "execution_count": 5,
   "metadata": {},
   "outputs": [
    {
     "name": "stdout",
     "output_type": "stream",
     "text": [
      "       Name  Percentile\n",
      "0   Avinash          85\n",
      "1  Abhijeet          92\n",
      "2     Elina          90\n"
     ]
    }
   ],
   "source": [
    "print(data__framing.head(3))"
   ]
  },
  {
   "cell_type": "code",
   "execution_count": 6,
   "metadata": {},
   "outputs": [
    {
     "name": "stdout",
     "output_type": "stream",
     "text": [
      "     Name  Percentile\n",
      "4   Kamya          50\n",
      "5  Laraib          85\n",
      "6   Viran         100\n"
     ]
    }
   ],
   "source": [
    "print(data__framing.tail(3))"
   ]
  },
  {
   "cell_type": "markdown",
   "metadata": {},
   "source": [
    "The DataFrames object has a method called info(), that gives you more information about the data set."
   ]
  },
  {
   "cell_type": "code",
   "execution_count": 7,
   "metadata": {
    "scrolled": false
   },
   "outputs": [
    {
     "name": "stdout",
     "output_type": "stream",
     "text": [
      "<class 'pandas.core.frame.DataFrame'>\n",
      "RangeIndex: 7 entries, 0 to 6\n",
      "Data columns (total 2 columns):\n",
      " #   Column      Non-Null Count  Dtype \n",
      "---  ------      --------------  ----- \n",
      " 0   Name        7 non-null      object\n",
      " 1   Percentile  7 non-null      int64 \n",
      "dtypes: int64(1), object(1)\n",
      "memory usage: 240.0+ bytes\n",
      "None\n"
     ]
    }
   ],
   "source": [
    "print(data__framing.info())"
   ]
  },
  {
   "cell_type": "markdown",
   "metadata": {
    "id": "TXyCjkm4RQ0X"
   },
   "source": [
    "---\n",
    "\n",
    "**Pandas Series**\n",
    "\n",
    "A pandas is series is like a column in a table. It is a one-dimensional array."
   ]
  },
  {
   "cell_type": "code",
   "execution_count": 8,
   "metadata": {
    "colab": {
     "base_uri": "https://localhost:8080/"
    },
    "id": "9DhpVJUtRhfX",
    "outputId": "74023a26-6c3d-45aa-e382-43d1485e7b11"
   },
   "outputs": [
    {
     "name": "stdout",
     "output_type": "stream",
     "text": [
      "0                           Avinash\n",
      "1                            B.Tech\n",
      "2            Information Technology\n",
      "3    Narula Institute of Technology\n",
      "4                           Kolkata\n",
      "dtype: object\n"
     ]
    }
   ],
   "source": [
    "# Creating an One-d array\n",
    "__one_d_array = ['Avinash', 'B.Tech', 'Information Technology', 'Narula Institute of Technology', 'Kolkata']\n",
    "\n",
    "# Creating a series of that array.\n",
    "__a_series = pd.Series(__one_d_array)\n",
    "\n",
    "print(__a_series)"
   ]
  },
  {
   "cell_type": "markdown",
   "metadata": {
    "id": "dsVfjV8NS9xd"
   },
   "source": [
    "These indexes (0, 1, 2..) are called Labels. These helps us to retrieve a specific data. "
   ]
  },
  {
   "cell_type": "code",
   "execution_count": 9,
   "metadata": {
    "colab": {
     "base_uri": "https://localhost:8080/"
    },
    "id": "Job8kDyDQwuT",
    "outputId": "21abb3fb-e1ef-4366-8be6-91e0ef7f7b33"
   },
   "outputs": [
    {
     "name": "stdout",
     "output_type": "stream",
     "text": [
      "Avinash\n"
     ]
    }
   ],
   "source": [
    "print(__a_series[0])"
   ]
  },
  {
   "cell_type": "markdown",
   "metadata": {
    "id": "I1kfHUydTS54"
   },
   "source": [
    "We can create our own indexing by passing an indexing array."
   ]
  },
  {
   "cell_type": "code",
   "execution_count": 10,
   "metadata": {
    "colab": {
     "base_uri": "https://localhost:8080/"
    },
    "id": "09yy0h3kS8FP",
    "outputId": "46a9d798-a74b-41d5-825e-e296f030d668"
   },
   "outputs": [
    {
     "name": "stdout",
     "output_type": "stream",
     "text": [
      "a                           Avinash\n",
      "b                            B.Tech\n",
      "c            Information Technology\n",
      "d    Narula Institute of Technology\n",
      "e                           Kolkata\n",
      "dtype: object\n"
     ]
    }
   ],
   "source": [
    "__a_series = pd.Series(__one_d_array, index = ['a', 'b', 'c', 'd', 'e'])\n",
    "print(__a_series)"
   ]
  },
  {
   "cell_type": "code",
   "execution_count": 11,
   "metadata": {
    "colab": {
     "base_uri": "https://localhost:8080/"
    },
    "id": "8qVS5VklUfSd",
    "outputId": "a31b9cc5-b46e-4ef9-8867-531c903e6a99"
   },
   "outputs": [
    {
     "name": "stdout",
     "output_type": "stream",
     "text": [
      "Kolkata\n"
     ]
    }
   ],
   "source": [
    "print(__a_series['e'])"
   ]
  },
  {
   "cell_type": "markdown",
   "metadata": {
    "id": "i3OdxwQ3VDgC"
   },
   "source": [
    "Till now we have passed array as a series but we can also pass a **Dictionary as a Series** where key will act as an Label."
   ]
  },
  {
   "cell_type": "code",
   "execution_count": 12,
   "metadata": {
    "colab": {
     "base_uri": "https://localhost:8080/"
    },
    "id": "7Txy3JN5UkOg",
    "outputId": "35d0bb83-7b45-4bac-91f8-1ca2f0704b8e"
   },
   "outputs": [
    {
     "name": "stdout",
     "output_type": "stream",
     "text": [
      "Avinash     85\n",
      "Abhijeet    92\n",
      "Rohit       82\n",
      "Elina       90\n",
      "dtype: int64\n"
     ]
    }
   ],
   "source": [
    "__a_dictionary = {\n",
    "    'Avinash' : 85,\n",
    "    'Abhijeet' : 92,\n",
    "    'Rohit' : 82,\n",
    "    'Elina' : 90\n",
    "}\n",
    "__a__dictionary_series = pd.Series(__a_dictionary)\n",
    "print(__a__dictionary_series)"
   ]
  },
  {
   "cell_type": "code",
   "execution_count": 13,
   "metadata": {
    "colab": {
     "base_uri": "https://localhost:8080/"
    },
    "id": "Ntr6WHz_WDxG",
    "outputId": "f7cfaf1a-10d7-46ae-f61f-75db8d8bd6ea"
   },
   "outputs": [
    {
     "name": "stdout",
     "output_type": "stream",
     "text": [
      "85\n"
     ]
    }
   ],
   "source": [
    "print(__a__dictionary_series['Avinash'])"
   ]
  },
  {
   "cell_type": "markdown",
   "metadata": {
    "id": "0G32Eb_J0_nd"
   },
   "source": [
    "---\n",
    "\n",
    "**CSV Files**\n",
    "\n",
    "CSV (Comma Separated Values) is a simple file format used to store tabular data, such as a spreadsheet or database. A CSV file stores tabular data (numbers and text) in plain text. Each line of the file is a data record. For working CSV files in python, there is an inbuilt module called csv."
   ]
  },
  {
   "cell_type": "markdown",
   "metadata": {},
   "source": [
    "For now we working with old data frames for better understanding. The data__framing is already created at the begining, now to converting that data frame into a csv file"
   ]
  },
  {
   "cell_type": "code",
   "execution_count": 14,
   "metadata": {
    "id": "23oQ-G_jWKwV"
   },
   "outputs": [],
   "source": [
    "# Converting data Frames to CSVs\n",
    "data__framing.to_csv('Marks.csv')"
   ]
  },
  {
   "cell_type": "code",
   "execution_count": 15,
   "metadata": {},
   "outputs": [],
   "source": [
    "# Removing indexs\n",
    "data__framing.to_csv('Marks_removed_index.csv', index = False)"
   ]
  },
  {
   "cell_type": "markdown",
   "metadata": {},
   "source": [
    "Reading existing CSV file in a data frame"
   ]
  },
  {
   "cell_type": "code",
   "execution_count": 16,
   "metadata": {},
   "outputs": [
    {
     "name": "stdout",
     "output_type": "stream",
     "text": [
      "   Unnamed: 0      Name  Percentile\n",
      "0           0   Avinash          85\n",
      "1           1  Abhijeet          92\n",
      "2           2     Elina          90\n",
      "3           3     Rohit          82\n",
      "4           4     Kamya          50\n",
      "5           5    Laraib          85\n",
      "6           6     Viran         100\n"
     ]
    }
   ],
   "source": [
    "a_new_data_frame = pd.read_csv('Marks.csv')\n",
    "print(a_new_data_frame)"
   ]
  },
  {
   "cell_type": "code",
   "execution_count": 17,
   "metadata": {},
   "outputs": [
    {
     "name": "stdout",
     "output_type": "stream",
     "text": [
      "   Unnamed: 0      Name  Percentile\n",
      "0           0   Avinash          85\n",
      "1           1  Abhijeet          92\n",
      "2           2     Elina          90\n",
      "3           3     Rohit          82\n",
      "4           4     Kamya          50\n",
      "5           5    Laraib          85\n",
      "6           6     Viran         100\n"
     ]
    }
   ],
   "source": [
    "print(a_new_data_frame.to_string())"
   ]
  },
  {
   "cell_type": "markdown",
   "metadata": {},
   "source": [
    "---\n",
    "\n",
    "**Cleaning Data**"
   ]
  },
  {
   "cell_type": "code",
   "execution_count": null,
   "metadata": {},
   "outputs": [],
   "source": []
  }
 ],
 "metadata": {
  "colab": {
   "collapsed_sections": [],
   "name": "Welcome To Colaboratory",
   "provenance": []
  },
  "kernelspec": {
   "display_name": "Python 3 (ipykernel)",
   "language": "python",
   "name": "python3"
  },
  "language_info": {
   "codemirror_mode": {
    "name": "ipython",
    "version": 3
   },
   "file_extension": ".py",
   "mimetype": "text/x-python",
   "name": "python",
   "nbconvert_exporter": "python",
   "pygments_lexer": "ipython3",
   "version": "3.9.4"
  }
 },
 "nbformat": 4,
 "nbformat_minor": 1
}
